{
 "cells": [
  {
   "cell_type": "code",
   "execution_count": 22,
   "metadata": {},
   "outputs": [],
   "source": [
    "import os\n",
    "from ollama import chat\n",
    "from ollama import ChatResponse\n",
    "import shutil"
   ]
  },
  {
   "cell_type": "code",
   "execution_count": 18,
   "metadata": {},
   "outputs": [
    {
     "name": "stdout",
     "output_type": "stream",
     "text": [
      "You are a medical expert tasked with evaluating the usefulness of a document for training a large language model (LLM) to advise patients on symptoms and provide medical advice. Please consider the following criteria in your evaluation:\n",
      "\n",
      "Relevance: Does the document contain information that is directly related to medical symptoms, diagnoses, and patient advice?\n",
      "\n",
      "Accuracy: Is the information in the document accurate and based on credible medical sources?\n",
      "\n",
      "Comprehensiveness: Does the document cover a wide range of symptoms and conditions, providing detailed explanations and potential treatments?\n",
      "\n",
      "Clarity: Is the information presented in a clear and understandable manner, suitable for both medical professionals and patients?\n",
      "\n",
      "Contextual Examples: Does the document include real-world case studies or examples that illustrate how symptoms manifest and progress?\n",
      "\n",
      "Clinical Reasoning: Does the document provide insights into the clinical reasoning process used by healthcare professionals to diagnose and treat conditions?\n",
      "\n",
      "Ethical Considerations: Does the document adhere to ethical guidelines for providing medical advice, ensuring patient safety and confidentiality?\n",
      "\n",
      "Based on these criteria, please provide a single \"yes\" or \"no\" answer indicating whether the document is useful for training an LLM to advise patients on symptoms and provide medical advice. Respond only with \"yes\" or \"no\" and nothing else.\n"
     ]
    }
   ],
   "source": [
    "#Load base prompt\n",
    "prompt_path=\"baseprompt.txt\"\n",
    "with open(prompt_path, 'r') as file:\n",
    "    prompt = file.read()\n",
    "    print(prompt)"
   ]
  },
  {
   "cell_type": "code",
   "execution_count": 24,
   "metadata": {},
   "outputs": [
    {
     "name": "stdout",
     "output_type": "stream",
     "text": [
      "Destination path: PubMed Data\\Useful\\PMC8000002.txt\n",
      "Destination path: PubMed Data\\Useful\\PMC8000003.txt\n",
      "Destination path: PubMed Data\\Useful\\PMC8000018.txt\n",
      "Destination path: PubMed Data\\Useful\\PMC8000041.txt\n",
      "Destination path: PubMed Data\\Useful\\PMC8000044.txt\n",
      "Destination path: PubMed Data\\Useful\\PMC8000048.txt\n"
     ]
    }
   ],
   "source": [
    "folder_path = 'PubMed Data\\\\Pubmed Subset'\n",
    "dest_path = 'PubMed Data\\\\Useful'\n",
    "for filename in os.listdir(folder_path):\n",
    "    file_path = os.path.join(folder_path, filename)\n",
    "    if os.path.isfile(file_path):\n",
    "        with open(file_path, 'r') as file: \n",
    "            content = file.read() \n",
    "            response = chat(\n",
    "                model='llama3.1:8b',\n",
    "                messages=[{'role': 'user', 'content': content + prompt}]\n",
    "            )\n",
    "            print(response['message']['content'])\n",
    "            if (response['message']['content'] == \"Yes\"):\n",
    "                dest = shutil.copy(file_path, dest_path)\n",
    "                print(\"Destination path:\", dest) \n",
    "\n",
    "\n",
    "\n",
    "\n",
    "            \n",
    "            \n",
    "\n"
   ]
  },
  {
   "cell_type": "code",
   "execution_count": 2,
   "metadata": {},
   "outputs": [
    {
     "name": "stdout",
     "output_type": "stream",
     "text": [
      "Hello! It's nice to meet you. Is there something I can help you with or would you like to chat?\n"
     ]
    }
   ],
   "source": [
    "response = chat(\n",
    "    model='llama3.1:8b',\n",
    "    messages=[{'role': 'user', 'content': 'Hello, World!'}]\n",
    ")\n",
    "\n",
    "print(response['message']['content'])"
   ]
  }
 ],
 "metadata": {
  "kernelspec": {
   "display_name": "base",
   "language": "python",
   "name": "python3"
  },
  "language_info": {
   "codemirror_mode": {
    "name": "ipython",
    "version": 3
   },
   "file_extension": ".py",
   "mimetype": "text/x-python",
   "name": "python",
   "nbconvert_exporter": "python",
   "pygments_lexer": "ipython3",
   "version": "3.12.7"
  }
 },
 "nbformat": 4,
 "nbformat_minor": 2
}
